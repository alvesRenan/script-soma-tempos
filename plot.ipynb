{
 "cells": [
  {
   "cell_type": "code",
   "execution_count": null,
   "metadata": {},
   "outputs": [],
   "source": [
    "import os\n",
    "import numpy as np\n",
    "import pandas as pd\n",
    "from matplotlib import pyplot as plt\n",
    "%matplotlib inline\n",
    "plt.style.use('ggplot')"
   ]
  },
  {
   "cell_type": "code",
   "execution_count": null,
   "metadata": {},
   "outputs": [],
   "source": [
    "def calc(df):\n",
    "    \"\"\"\n",
    "    Args:\n",
    "        df: dataframe pandas contendo as informações do arquivo de tempo\n",
    "    Returns:\n",
    "        a média dos valores e o devio padrão\n",
    "    \"\"\"\n",
    "    mean = df[0].mean()\n",
    "    std = df[0].std()\n",
    "    margem_de_erro = 1.96 * (std / np.sqrt(len(df[0])))\n",
    "    \n",
    "    return mean, margem_de_erro"
   ]
  },
  {
   "cell_type": "code",
   "execution_count": null,
   "metadata": {
    "scrolled": false
   },
   "outputs": [],
   "source": [
    "plt.rcParams['figure.figsize'] = 12, 8\n",
    "\n",
    "directory = \"complt-8d/\"\n",
    "\n",
    "files = [file for file in sorted(os.listdir(directory)) if not file.startswith('.')]\n",
    "\n",
    "labels = [\"dispositivo-%s\" % x[-2:] for x in files]\n",
    "\n",
    "for file in files:\n",
    "    data = pd.read_csv(\"\".join((directory, file)), header=None)\n",
    "    mean, erro = calc(data)\n",
    "\n",
    "    plt.errorbar(labels.index(\"dispositivo-%s\" % file[-2:]), mean, yerr=erro, color='b', fmt='o', capsize=10)\n",
    "    \n",
    "plt.xticks(np.arange(len(files)),labels)\n",
    "plt.ylabel(\"Tempo de execução (ms)\")\n",
    "plt.xlabel(\"Dispositivo\")\n",
    "plt.savefig(\"plot_8_dispositivos\")"
   ]
  }
 ],
 "metadata": {
  "kernelspec": {
   "display_name": "Python 3",
   "language": "python",
   "name": "python3"
  },
  "language_info": {
   "codemirror_mode": {
    "name": "ipython",
    "version": 3
   },
   "file_extension": ".py",
   "mimetype": "text/x-python",
   "name": "python",
   "nbconvert_exporter": "python",
   "pygments_lexer": "ipython3",
   "version": "3.6.5"
  }
 },
 "nbformat": 4,
 "nbformat_minor": 2
}
