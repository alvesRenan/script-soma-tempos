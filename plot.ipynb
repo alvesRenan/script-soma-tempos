{
 "cells": [
  {
   "cell_type": "code",
   "execution_count": null,
   "metadata": {},
   "outputs": [],
   "source": [
    "import os\n",
    "import numpy as np\n",
    "import pandas as pd\n",
    "from matplotlib import pyplot as plt\n",
    "%matplotlib inline\n",
    "plt.style.use('ggplot')"
   ]
  },
  {
   "cell_type": "code",
   "execution_count": null,
   "metadata": {},
   "outputs": [],
   "source": [
    "def calc(df):\n",
    "    \"\"\"\n",
    "    Args:\n",
    "        df: dataframe pandas contendo as informações do arquivo de tempo\n",
    "    Returns:\n",
    "        a média dos valores e o devio padrão\n",
    "    \"\"\"\n",
    "    mean = df[0].mean()\n",
    "    std = df[0].std()\n",
    "    margem_de_erro = 1.96 * (std / np.sqrt(len(df[0])))\n",
    "    \n",
    "    return mean, margem_de_erro"
   ]
  },
  {
   "cell_type": "code",
   "execution_count": null,
   "metadata": {
    "scrolled": false
   },
   "outputs": [],
   "source": [
    "# Plot do intervalo de confiança\n",
    "\n",
    "# Tamanha da figura\n",
    "plt.rcParams['figure.figsize'] = 12, 8\n",
    "\n",
    "# Diretorio dos arquivos\n",
    "directory = \"complt-all/\"\n",
    "\n",
    "# Lista de arquivos ordenada\n",
    "files = [file for file in sorted(os.listdir(directory)) if not file.startswith('.')]\n",
    "\n",
    "# Eixo x\n",
    "labels = [\"dispositivo-%s\" % x[-2:] for x in files]\n",
    "# labels = [x for x in files]\n",
    "\n",
    "for file in files:\n",
    "    data = pd.read_csv(\"\".join((directory, file)), header=None)\n",
    "    mean, erro = calc(data)\n",
    "    \n",
    "    # um cenário\n",
    "    plt.errorbar(labels.index(\"dispositivo-%s\" % file[-2:]), mean, yerr=erro, color='b', fmt='o', capsize=10)\n",
    "    # todos os cenários\n",
    "#     plt.errorbar(labels.index(file) ,mean, yerr=erro, color='b', fmt='o', capsize=10)\n",
    "    \n",
    "plt.xticks(np.arange(len(files)),labels)\n",
    "plt.ylabel(\"Tempo de execução (ms)\")\n",
    "plt.xlabel(\"Dispositivo\")\n",
    "\n",
    "# Mude o nome\n",
    "plt.savefig(\"plot_all_dispositivos\")"
   ]
  },
  {
   "cell_type": "code",
   "execution_count": null,
   "metadata": {},
   "outputs": [],
   "source": [
    "# Plot dos histogramas\n",
    "file = pd.read_csv(\"experimentos_inicio_simultaneo/complt-4d/mpos_server_android.log\", header=None, sep=\":\")\n",
    "file[5].value_counts().plot(kind='bar')\n",
    "plt.xlabel(\"Requisições\")\n",
    "plt.ylabel(\"Execuções simultâneas\")\n",
    "plt.savefig(\"plots_inicio_simultaneo/hist_4_dispositivos_matrix_800_inicio_simultaneo.png\")"
   ]
  }
 ],
 "metadata": {
  "kernelspec": {
   "display_name": "Python 3",
   "language": "python",
   "name": "python3"
  },
  "language_info": {
   "codemirror_mode": {
    "name": "ipython",
    "version": 3
   },
   "file_extension": ".py",
   "mimetype": "text/x-python",
   "name": "python",
   "nbconvert_exporter": "python",
   "pygments_lexer": "ipython3",
   "version": "3.6.5"
  }
 },
 "nbformat": 4,
 "nbformat_minor": 2
}
