{
 "cells": [
  {
   "cell_type": "code",
   "execution_count": null,
   "metadata": {},
   "outputs": [],
   "source": [
    "import os\n",
    "import numpy as np\n",
    "import pandas as pd\n",
    "from matplotlib import pyplot as plt\n",
    "%matplotlib inline\n",
    "plt.style.use('ggplot')"
   ]
  },
  {
   "cell_type": "code",
   "execution_count": null,
   "metadata": {},
   "outputs": [],
   "source": [
    "def calc(df):\n",
    "    \"\"\"\n",
    "    Args:\n",
    "        df: dataframe pandas contendo as informações do arquivo de tempo\n",
    "    Returns:\n",
    "        a média dos valores e o devio padrão\n",
    "    \"\"\"\n",
    "    mean = df[0].mean()\n",
    "    std = df[0].std()\n",
    "    margem_de_erro = 1.96 * (std / np.sqrt(len(df[0])))\n",
    "    \n",
    "    return mean, margem_de_erro"
   ]
  },
  {
   "cell_type": "code",
   "execution_count": null,
   "metadata": {},
   "outputs": [],
   "source": [
    "def plot_it(directory, output_name, x_label, all_devices=False):\n",
    "    \n",
    "    # data files\n",
    "    if all_devices:\n",
    "        plt.rcParams['figure.figsize'] = 12, 8\n",
    "        \n",
    "        files = [file for file in sorted(os.listdir(directory)) if not file.startswith('.')]\n",
    "        labels = [x for x in files]\n",
    "    else:\n",
    "        files = [file for file in sorted(os.listdir(directory)) if file.startswith('complete')]\n",
    "        labels = [\"dispositivo-%s\" % x[-2:] for x in files]\n",
    "    \n",
    "        if len(labels) == 4 or len(labels) == 8:\n",
    "            plt.rcParams['figure.figsize'] = 12, 8\n",
    "        if len(labels) == 12:\n",
    "            plt.rcParams['figure.figsize'] = 16, 8\n",
    "        if len(labels) == 16:\n",
    "            plt.rcParams['figure.figsize'] = 22, 8\n",
    "        if len(labels) == 20:\n",
    "            plt.rcParams['figure.figsize'] = 28, 8\n",
    "    \n",
    "    for file in files:\n",
    "        data = pd.read_csv(\"\".join((directory, file)), header=None)\n",
    "        mean, erro = calc(data)\n",
    "\n",
    "        # todos os cenários\n",
    "        if all_devices:\n",
    "            plt.errorbar(labels.index(file) ,mean, yerr=erro, color='b', fmt='o', capsize=10)\n",
    "            plt.xlabel(x_label)\n",
    "        \n",
    "        # um cenário\n",
    "        else:\n",
    "            plt.errorbar(labels.index(\"dispositivo-%s\" % file[-2:]), mean, yerr=erro, color='b', fmt='o', capsize=10)\n",
    "            plt.xlabel(\"Dispositivos\")\n",
    "    \n",
    "    plt.xticks(np.arange(len(files)),labels)\n",
    "    plt.ylabel(\"Tempo de execução (ms)\")\n",
    "    plt.savefig(output_name)\n",
    "        \n",
    "        "
   ]
  },
  {
   "cell_type": "code",
   "execution_count": null,
   "metadata": {},
   "outputs": [],
   "source": [
    "plot_it(\"../dynamic_cloudlet/full_16/execs/\",\n",
    "          \"/tmp/plot.png\",\n",
    "          \"\",\n",
    "          False)"
   ]
  },
  {
   "cell_type": "code",
   "execution_count": null,
   "metadata": {},
   "outputs": [],
   "source": [
    "# Plot dos erros\n",
    "\n",
    "plt.rcParams['figure.figsize'] = 8, 6\n",
    "df = pd.read_csv(\"experimentos_inicio_distinto/erros_totais\", header=None)\n",
    "\n",
    "# for i,j in zip(df[0], df[1]):\n",
    "plt.bar(x=df[0], height=df[1])\n",
    "plt.xticks(df[0])\n",
    "plt.xlabel(\"Número de dispositivos\")\n",
    "plt.ylabel(\"Quantidade de erros no servidor\")\n",
    "plt.savefig(\"plots_inicio_distinto/erros\")"
   ]
  },
  {
   "cell_type": "code",
   "execution_count": null,
   "metadata": {},
   "outputs": [],
   "source": [
    "# Plot dos histogramas para dois servidores\n",
    "\n",
    "from matplotlib.ticker import PercentFormatter\n",
    "\n",
    "plt.rcParams['figure.figsize'] = 12, 8\n",
    "\n",
    "server_1 = !cat experimentos_source-afis/umts/20_d_simultaneo-umts/mpos_server_android.log | grep \"Current number of requests\" | cut -f6 -d':'\n",
    "# server_2 = !cat experimentos_2_servers_benchImage/Cartoonize/simultaneo/rede_umts/20-umts/server_2.log | grep \"Current number of requests\" | cut -f6 -d':'\n",
    "\n",
    "percent_server_1 = pd.Series(server_1).value_counts(sort=False, normalize=True) * 100\n",
    "# percent_server_2 = pd.Series(server_2).value_counts(sort=False, normalize=True) * 100\n",
    "percent_server_1.index = percent_server_1.index.map(int)\n",
    "# percent_server_2.index = percent_server_2.index.map(int)\n",
    "\n",
    "df = pd.DataFrame()\n",
    "df[\"Servidor 1\"] = percent_server_1\n",
    "# df[\"Servidor 2\"] = percent_server_2\n",
    "df.sort_index(inplace=True)\n",
    "\n",
    "ax = df.plot(kind='bar')\n",
    "ax.yaxis.set_major_formatter(PercentFormatter())\n",
    "\n",
    "plt.xlabel(\"Requisições\")\n",
    "plt.ylabel(\"Execuções simultâneas\")\n",
    "plt.savefig(\"experimentos_source-afis/umts/plots-simultaneo/20_hist_3200_digitais\")"
   ]
  }
 ],
 "metadata": {
  "kernelspec": {
   "display_name": "Python 3",
   "language": "python",
   "name": "python3"
  },
  "language_info": {
   "codemirror_mode": {
    "name": "ipython",
    "version": 3
   },
   "file_extension": ".py",
   "mimetype": "text/x-python",
   "name": "python",
   "nbconvert_exporter": "python",
   "pygments_lexer": "ipython3",
   "version": "3.6.5"
  }
 },
 "nbformat": 4,
 "nbformat_minor": 2
}
